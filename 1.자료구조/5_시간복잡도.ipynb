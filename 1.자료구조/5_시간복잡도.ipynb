{
 "cells": [
  {
   "cell_type": "markdown",
   "metadata": {},
   "source": [
    "# 시간 복잡도\n",
    "- 알고리즘 푸는데 있어 정답은 없다\n",
    "- 복잡도: 알고리즘 성능 분석"
   ]
  },
  {
   "cell_type": "markdown",
   "metadata": {},
   "source": [
    "1. 시간 복잡도: 알고리즘 실행 속도\n",
    "    - 면접에서 많이 물어봄\n",
    "    - 이해하고 계산할 줄 알아야 됨\n",
    "    - 주요 요소: 반복문(시간이 많이 소요 됨)\n",
    "2. 공간 복잡도: 알고리즘이 사용하는 메모리 사이즈"
   ]
  },
  {
   "cell_type": "markdown",
   "metadata": {},
   "source": [
    "# 1. 시간 복잡도"
   ]
  },
  {
   "cell_type": "markdown",
   "metadata": {},
   "source": [
    "## 1) 표기법\n",
    "    1. Big O(빅 오): O(N)\n",
    "        - 알고리즘 최악의 실행시간 표기\n",
    "        - 아무리 최악의 상황이라도, 이 정도의 성능은 보장한다라는 뜻을 가짐\n",
    "        - 최악\n",
    "    2. Ω (오메가) 표기법: Ω(N)\n",
    "        - 알고리즘 최상의 실행 시간 표기\n",
    "    3. Θ (세타) 표기법: Θ(N)\n",
    "        - 알고리즘 평균 실행 시간 표기"
   ]
  },
  {
   "cell_type": "markdown",
   "metadata": {},
   "source": [
    "### 1. 빅 오 표기법\n",
    "O(1) < O( 𝑙𝑜𝑔𝑛 ) < O(n) < O(n 𝑙𝑜𝑔𝑛 ) < O( 𝑛2 ) < O( 2𝑛 ) < O(n!)"
   ]
  },
  {
   "cell_type": "markdown",
   "metadata": {},
   "source": [
    "<div class=\"alert alert-block alert-warning\">\n",
    "<strong><font color=\"blue\" size=\"3em\">연습1:  1부터 n까지의 합을 구하는 알고리즘 작성해보기</font></strong>\n",
    "</div>"
   ]
  },
  {
   "cell_type": "markdown",
   "metadata": {},
   "source": [
    "### 방법 1\n",
    "##### 시간 복잡도: O(n)\n",
    "```python\n",
    "    def sum_all(n):\n",
    "        total = 0\n",
    "        for num in range(1, n + 1):\n",
    "            total += num\n",
    "        return total\n",
    "       ```    "
   ]
  },
  {
   "cell_type": "markdown",
   "metadata": {},
   "source": [
    "### 방법 2\n",
    "\n",
    "#### 알고리즘2: 1부터 n까지의 합을 구하는 알고리즘2\n",
    "* <font size=5em>$\\frac { n (n + 1) }{ 2 }$</font>\n",
    "\n",
    "##### 시간 복잡도: O(1)\n",
    "```python\n",
    "    def sum_all(n):\n",
    "        return int(n * (n + 1) / 2)\n",
    "       ```    "
   ]
  },
  {
   "cell_type": "code",
   "execution_count": null,
   "metadata": {},
   "outputs": [],
   "source": []
  }
 ],
 "metadata": {
  "kernelspec": {
   "display_name": "Python 3",
   "language": "python",
   "name": "python3"
  },
  "language_info": {
   "codemirror_mode": {
    "name": "ipython",
    "version": 3
   },
   "file_extension": ".py",
   "mimetype": "text/x-python",
   "name": "python",
   "nbconvert_exporter": "python",
   "pygments_lexer": "ipython3",
   "version": "3.8.3"
  }
 },
 "nbformat": 4,
 "nbformat_minor": 4
}
