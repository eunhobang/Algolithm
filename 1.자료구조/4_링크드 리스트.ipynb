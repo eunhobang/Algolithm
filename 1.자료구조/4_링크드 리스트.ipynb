{
 "cells": [
  {
   "cell_type": "markdown",
   "metadata": {},
   "source": [
    "## 먼저 클래스 알고 가기\n",
    "https://www.fun-coding.org/PL&OOP1-2.html\n",
    "\n",
    "#### 객체지향 프로그래밍이란?\n",
    "- 객체 단위로 데이터와 기능(함수)을 하나로 묶어서 쓰는 언어\n",
    "\n",
    "- class : 설계도\n",
    "- object : 객체\n",
    "    * 클래스 기반으로 만들어진 실체를 객체 또는 인스턴스라고 함\n",
    "        - 하나의 클래스로 여러 개의 객체 생성이 가능\n",
    "- attribute : 변수\n",
    "- method : 함수\n",
    "\n",
    "#### next()\n",
    "- 반복자를 입력받아 다음 출력 값을 반환하는 함수"
   ]
  },
  {
   "cell_type": "markdown",
   "metadata": {},
   "source": [
    "# 링크드 리스트(연결 리스트)\n",
    "\n",
    "- 배열의 단점 극복(배열은 특정한 연결된 공간을 미리 예약해야 됨)\n",
    "\n",
    "### 구조\n",
    "- 노드: 데이터 저장 공간\n",
    "- 포인터: 각 노드 안에서, 다음이나 이전의 노드와의 연결 정보가 있는 공간"
   ]
  },
  {
   "cell_type": "markdown",
   "metadata": {},
   "source": [
    "## 1. 링크드 리스트로 데이터 추가하기"
   ]
  },
  {
   "cell_type": "code",
   "execution_count": 131,
   "metadata": {},
   "outputs": [],
   "source": [
    "class Node:\n",
    "    def __init__(self, data, next=None):\n",
    "        self.data = data\n",
    "        self.next = next\n",
    "\n",
    "def add(data):\n",
    "    node = head\n",
    "    print(\"헤드: \", node.data)\n",
    "    while node.next: # 노드에 next가 있는 동안\n",
    "        node = node.next\n",
    "        print(\"노드: \", node.data)\n",
    "    node.next = Node(data)\n",
    "    print(\"노드의 넥스트: \", node.next.data)\n",
    "    print(\"-----------------------\")"
   ]
  },
  {
   "cell_type": "code",
   "execution_count": 132,
   "metadata": {},
   "outputs": [
    {
     "name": "stdout",
     "output_type": "stream",
     "text": [
      "헤드:  1\n",
      "노드의 넥스트:  2\n",
      "-----------------------\n",
      "헤드:  1\n",
      "노드:  2\n",
      "노드의 넥스트:  3\n",
      "-----------------------\n",
      "헤드:  1\n",
      "노드:  2\n",
      "노드:  3\n",
      "노드의 넥스트:  4\n",
      "-----------------------\n",
      "헤드:  1\n",
      "노드:  2\n",
      "노드:  3\n",
      "노드:  4\n",
      "노드의 넥스트:  5\n",
      "-----------------------\n",
      "헤드:  1\n",
      "노드:  2\n",
      "노드:  3\n",
      "노드:  4\n",
      "노드:  5\n",
      "노드의 넥스트:  6\n",
      "-----------------------\n",
      "헤드:  1\n",
      "노드:  2\n",
      "노드:  3\n",
      "노드:  4\n",
      "노드:  5\n",
      "노드:  6\n",
      "노드의 넥스트:  7\n",
      "-----------------------\n",
      "헤드:  1\n",
      "노드:  2\n",
      "노드:  3\n",
      "노드:  4\n",
      "노드:  5\n",
      "노드:  6\n",
      "노드:  7\n",
      "노드의 넥스트:  8\n",
      "-----------------------\n",
      "헤드:  1\n",
      "노드:  2\n",
      "노드:  3\n",
      "노드:  4\n",
      "노드:  5\n",
      "노드:  6\n",
      "노드:  7\n",
      "노드:  8\n",
      "노드의 넥스트:  9\n",
      "-----------------------\n"
     ]
    }
   ],
   "source": [
    "node1 = Node(1) # 노드 생성\n",
    "# [노드|포인터] 이러한 형태로 생성이 됨\n",
    "head = node1\n",
    "\n",
    "for i in range(2,10):\n",
    "    add(i)"
   ]
  },
  {
   "cell_type": "code",
   "execution_count": 134,
   "metadata": {},
   "outputs": [
    {
     "name": "stdout",
     "output_type": "stream",
     "text": [
      "1\n",
      "2\n",
      "3\n",
      "4\n",
      "5\n",
      "6\n",
      "7\n",
      "8\n",
      "9\n"
     ]
    }
   ],
   "source": [
    "# 노드 확인하기\n",
    "node = head\n",
    "while node:\n",
    "    print(node.data)\n",
    "    node = node.next"
   ]
  },
  {
   "cell_type": "markdown",
   "metadata": {},
   "source": [
    "## 2. 링크드 리스트 중간에 데이터 추가하기"
   ]
  },
  {
   "cell_type": "code",
   "execution_count": 135,
   "metadata": {},
   "outputs": [],
   "source": [
    "node3 = Node(1.5)"
   ]
  },
  {
   "cell_type": "code",
   "execution_count": 136,
   "metadata": {},
   "outputs": [],
   "source": [
    "node = head\n",
    "search = True\n",
    "while search:\n",
    "    if node.data == 1:\n",
    "        search = False\n",
    "    else:\n",
    "        node = node.next\n",
    "\n",
    "node_next = node.next # 원래 1의 넥스트를 임시로 저장(임시로 저장 안하면 node3이 덮어 씌우기 때문에 사라짐)\n",
    "node.next = node3\n",
    "node3.next = node_next"
   ]
  },
  {
   "cell_type": "code",
   "execution_count": 137,
   "metadata": {
    "scrolled": false
   },
   "outputs": [
    {
     "name": "stdout",
     "output_type": "stream",
     "text": [
      "1\n",
      "1.5\n",
      "2\n",
      "3\n",
      "4\n",
      "5\n",
      "6\n",
      "7\n",
      "8\n",
      "9\n"
     ]
    }
   ],
   "source": [
    "# 노드 확인하기\n",
    "node = head\n",
    "while node:\n",
    "    print(node.data)\n",
    "    node=node.next"
   ]
  },
  {
   "cell_type": "markdown",
   "metadata": {},
   "source": [
    "## 3. 링크드 리스트 관리 클래스"
   ]
  },
  {
   "cell_type": "code",
   "execution_count": 123,
   "metadata": {},
   "outputs": [],
   "source": [
    "class Node:\n",
    "    def __init__(self, data, next=None):\n",
    "        self.data = data\n",
    "        self.next = next\n",
    "    \n",
    "class NodeMgmt:\n",
    "    def __init__(self, data):\n",
    "        self.head = Node(data)\n",
    "        \n",
    "    def add(self, data):\n",
    "        if self.head == '':\n",
    "            self.head = Node(data)\n",
    "        else:\n",
    "            node = self.head\n",
    "            while node.next:\n",
    "                node = node.next\n",
    "            node.next = Node(data)\n",
    "        \n",
    "    def desc(self):\n",
    "        node = self.head\n",
    "        while node:\n",
    "            print(node.data)\n",
    "            node = node.next"
   ]
  },
  {
   "cell_type": "code",
   "execution_count": 124,
   "metadata": {},
   "outputs": [
    {
     "name": "stdout",
     "output_type": "stream",
     "text": [
      "0\n"
     ]
    }
   ],
   "source": [
    "linkedlist1 = NodeMgment(0)\n",
    "linkedlist1.desc()"
   ]
  },
  {
   "cell_type": "code",
   "execution_count": 126,
   "metadata": {},
   "outputs": [
    {
     "name": "stdout",
     "output_type": "stream",
     "text": [
      "0\n",
      "1\n",
      "2\n",
      "3\n",
      "4\n",
      "5\n",
      "6\n",
      "7\n",
      "8\n",
      "9\n"
     ]
    }
   ],
   "source": [
    "for i in range(1,10):\n",
    "    linkedlist1.add(i)\n",
    "linkedlist1.desc()"
   ]
  },
  {
   "cell_type": "code",
   "execution_count": null,
   "metadata": {},
   "outputs": [],
   "source": []
  },
  {
   "cell_type": "code",
   "execution_count": null,
   "metadata": {},
   "outputs": [],
   "source": []
  },
  {
   "cell_type": "code",
   "execution_count": null,
   "metadata": {},
   "outputs": [],
   "source": []
  },
  {
   "cell_type": "code",
   "execution_count": null,
   "metadata": {},
   "outputs": [],
   "source": []
  }
 ],
 "metadata": {
  "kernelspec": {
   "display_name": "Python 3",
   "language": "python",
   "name": "python3"
  },
  "language_info": {
   "codemirror_mode": {
    "name": "ipython",
    "version": 3
   },
   "file_extension": ".py",
   "mimetype": "text/x-python",
   "name": "python",
   "nbconvert_exporter": "python",
   "pygments_lexer": "ipython3",
   "version": "3.8.3"
  }
 },
 "nbformat": 4,
 "nbformat_minor": 4
}
